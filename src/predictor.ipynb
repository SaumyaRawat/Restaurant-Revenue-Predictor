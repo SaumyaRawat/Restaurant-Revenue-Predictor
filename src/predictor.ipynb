{
 "cells": [
  {
   "cell_type": "code",
   "execution_count": 80,
   "metadata": {
    "collapsed": false
   },
   "outputs": [],
   "source": [
    "import pandas as pd\n",
    "import numpy as np\n",
    "import warnings\n",
    "import seaborn as sns\n",
    "\n",
    "from datetime import datetime\n",
    "from sklearn.svm import SVR\n",
    "from sklearn import svm\n",
    "from sklearn.ensemble import RandomForestRegressor\n",
    "\n",
    "warnings.filterwarnings('ignore')\n",
    "% config InlineBackend.figure_format = 'png'\n",
    "% matplotlib inline"
   ]
  },
  {
   "cell_type": "code",
   "execution_count": 81,
   "metadata": {
    "collapsed": true
   },
   "outputs": [],
   "source": [
    "def read_data(filename):\n",
    "    dataset = pd.read_csv(filename)\n",
    "    return dataset\n",
    "\n",
    "# Read the dataset\n",
    "train = read_data(\"../data/train.csv\")\n",
    "test = read_data(\"../data/test.csv\")"
   ]
  },
  {
   "cell_type": "code",
   "execution_count": 82,
   "metadata": {
    "collapsed": true
   },
   "outputs": [],
   "source": [
    "def parse_date(data):\n",
    "    \n",
    "    # Assume a date which is later than latest opening date of all the restaurants\n",
    "    latest_date = datetime.strptime(\"01/01/2015\", '%m/%d/%Y')\n",
    "    \n",
    "    open_num_days = []\n",
    "    open_month = []\n",
    "    open_year = []\n",
    "\n",
    "    for date in data['Open Date']:\n",
    "        cur_date = datetime.strptime(date, '%m/%d/%Y')\n",
    "        open_num_days.append((latest_date - cur_date).days)\n",
    "        open_month.append(cur_date.month)\n",
    "        open_year.append(cur_date.year)\n",
    "\n",
    "    data['Days'] = open_num_days\n",
    "    data['Month'] = open_month\n",
    "    data['Year'] = open_year\n",
    "    del data[\"Open Date\"]\n",
    "    \n",
    "    return data"
   ]
  },
  {
   "cell_type": "code",
   "execution_count": 83,
   "metadata": {
    "collapsed": true
   },
   "outputs": [],
   "source": [
    "# Calculate number of samples in training and test datasets\n",
    "num_train = train.shape[0]\n",
    "num_test = test.shape[0]"
   ]
  },
  {
   "cell_type": "code",
   "execution_count": 84,
   "metadata": {
    "collapsed": true
   },
   "outputs": [],
   "source": [
    "# For feature engineering, combine train and test data\n",
    "data = pd.concat((train.loc[:, \"Open Date\" : \"P37\"], test.loc[:, \"Open Date\" : \"P37\"]), ignore_index=True)"
   ]
  },
  {
   "cell_type": "code",
   "execution_count": 85,
   "metadata": {
    "collapsed": false
   },
   "outputs": [],
   "source": [
    "# Parse date of opening of restaurant to get the number of days it has stayed open, month in which it opened\n",
    "# and year in which it opened. The additional month and year features can potentially help proxy seasonality\n",
    "# differences since restaurant revenues are highly cylical.\n",
    "data = parse_date(data)"
   ]
  },
  {
   "cell_type": "code",
   "execution_count": 86,
   "metadata": {
    "collapsed": false
   },
   "outputs": [
    {
     "data": {
      "image/png": "[encoded data removed]",
      "text/plain": [
       "<matplotlib.figure.Figure at 0x7fc0b2bd9a90>"
      ]
     },
     "metadata": {},
     "output_type": "display_data"
    }
   ],
   "source": [
    "# The two categories of City Group both appear very frequently\n",
    "sns.countplot(x='City Group', data=train, palette=\"Greens_d\")\n",
    "\n",
    "# One hot encode City Group\n",
    "data = data.join(pd.get_dummies(data['City Group'], prefix=\"CG\"))\n",
    "\n",
    "# Since only n-1 columns are needed to binarize n categories, drop one of the new columns.  \n",
    "# And drop the original columns.\n",
    "data = data.drop([\"City Group\", \"CG_Other\"], axis=1)"
   ]
  },
  {
   "cell_type": "code",
   "execution_count": 87,
   "metadata": {
    "collapsed": false
   },
   "outputs": [
    {
     "data": {
      "image/png": "[encoded data removed]",
      "text/plain": [
       "<matplotlib.figure.Figure at 0x7fc0b2a27278>"
      ]
     },
     "metadata": {},
     "output_type": "display_data"
    }
   ],
   "source": [
    "# Two of the four Restaurant Types (DT and MB), are extremely rare\n",
    "sns.countplot(x='Type', data=data, palette=\"Greens_d\")\n",
    "\n",
    "# One hot encode City Group\n",
    "data = data.join(pd.get_dummies(data['Type'], prefix=\"T\"))\n",
    "\n",
    "# Since only n-1 columns are needed to binarize n categories, drop one of the new columns.  \n",
    "# And drop the original columns. Also drop the extremely rare restaurant types.\n",
    "data = data.drop([\"Type\", \"T_MB\", \"T_DT\"], axis=1)"
   ]
  },
  {
   "cell_type": "code",
   "execution_count": 88,
   "metadata": {
    "collapsed": false
   },
   "outputs": [],
   "source": [
    "# Replace city names with count of their frequency\n",
    "city_counts = data[\"City\"].value_counts()\n",
    "data[\"City\"] = data[\"City\"].replace(city_counts)"
   ]
  },
  {
   "cell_type": "code",
   "execution_count": 89,
   "metadata": {
    "collapsed": true
   },
   "outputs": [],
   "source": [
    "# Split into train and test datasets\n",
    "train_processed = data[:num_train]\n",
    "test_processed = data[num_train:]"
   ]
  },
  {
   "cell_type": "code",
   "execution_count": 90,
   "metadata": {
    "collapsed": false
   },
   "outputs": [],
   "source": [
    "lin_clf = svm.LinearSVR()\n",
    "lin_clf.fit(train_processed, train[\"Revenue\"])\n",
    "results_svm = lin_clf.predict(test_processed)"
   ]
  },
  {
   "cell_type": "code",
   "execution_count": 91,
   "metadata": {
    "collapsed": false
   },
   "outputs": [],
   "source": [
    "rf = RandomForestRegressor()\n",
    "rf.fit(train_processed, train[\"Revenue\"])\n",
    "results_rf = rf.predict(test_processed)"
   ]
  },
  {
   "cell_type": "code",
   "execution_count": 92,
   "metadata": {
    "collapsed": true
   },
   "outputs": [],
   "source": [
    "submission = pd.DataFrame(columns=['Prediction'],index=test.index, data=results_rf)\n",
    "submission.index.name = 'Id'\n",
    "# Write out the submission\n",
    "submission.to_csv(\"../simple2.csv\")"
   ]
  },
  {
   "cell_type": "code",
   "execution_count": null,
   "metadata": {
    "collapsed": true
   },
   "outputs": [],
   "source": []
  }
 ],
 "metadata": {
  "kernelspec": {
   "display_name": "Python [Root]",
   "language": "python",
   "name": "Python [Root]"
  },
  "language_info": {
   "codemirror_mode": {
    "name": "ipython",
    "version": 3
   },
   "file_extension": ".py",
   "mimetype": "text/x-python",
   "name": "python",
   "nbconvert_exporter": "python",
   "pygments_lexer": "ipython3",
   "version": "3.5.2"
  }
 },
 "nbformat": 4,
 "nbformat_minor": 0
}
