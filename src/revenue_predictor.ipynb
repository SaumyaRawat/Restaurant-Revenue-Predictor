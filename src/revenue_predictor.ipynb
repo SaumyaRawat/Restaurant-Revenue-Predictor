{
 "cells": [
  {
   "cell_type": "code",
   "execution_count": 498,
   "metadata": {
    "collapsed": true
   },
   "outputs": [],
   "source": [
    "import numpy as np\n",
    "import matplotlib.pyplot as plt\n",
    "import pandas as pd\n",
    "import seaborn as sns\n",
    "import warnings\n",
    "\n",
    "from datetime import datetime\n",
    "from sklearn.neighbors import KNeighborsClassifier\n",
    "from sklearn.ensemble import RandomForestRegressor\n",
    "from sklearn import svm\n",
    "from sklearn.metrics import mean_squared_error\n",
    "from scipy.stats import shapiro\n",
    "from sklearn import cluster\n",
    "from scipy.cluster import vq\n",
    "\n",
    "warnings.filterwarnings('ignore')\n",
    "% config InlineBackend.figure_format = 'png'\n",
    "% matplotlib inline"
   ]
  },
  {
   "cell_type": "code",
   "execution_count": 499,
   "metadata": {
    "collapsed": true
   },
   "outputs": [],
   "source": [
    "def read_data(filename):\n",
    "    dataset = pd.read_csv(filename)\n",
    "    return dataset"
   ]
  },
  {
   "cell_type": "code",
   "execution_count": 500,
   "metadata": {
    "collapsed": true
   },
   "outputs": [],
   "source": [
    "def evaluate_rmse(dataset, prediction):\n",
    "    return np.sqrt(mean_squared_error(dataset['Revenue'], dataset[prediction]))"
   ]
  },
  {
   "cell_type": "code",
   "execution_count": 501,
   "metadata": {
    "collapsed": true
   },
   "outputs": [],
   "source": [
    "def parse_date(train):\n",
    "    \n",
    "    # Assume a date which is later than latest opening date of all the restaurants\n",
    "    latest_date = datetime.strptime(\"01/01/2015\", '%m/%d/%Y')\n",
    "    \n",
    "    open_num_days = []\n",
    "    open_month = []\n",
    "    open_year = []\n",
    "\n",
    "    for date in train['Open Date']:\n",
    "        cur_date = datetime.strptime(date, '%m/%d/%Y')\n",
    "        open_num_days.append((latest_date - cur_date).days)\n",
    "        open_month.append(cur_date.month)\n",
    "        open_year.append(cur_date.year)\n",
    "\n",
    "    train['Days'] = open_num_days\n",
    "    train['Month'] = open_month\n",
    "    train['Year'] = open_year"
   ]
  },
  {
   "cell_type": "code",
   "execution_count": 502,
   "metadata": {
    "collapsed": false
   },
   "outputs": [],
   "source": [
    "def adjust_type(data):\n",
    "    \n",
    "    # Augment data with id for original order of records\n",
    "    data.loc[:, \"tempIdx\"] = data.index\n",
    "    \n",
    "    # Get records with restaurant type = \"Mobile\"\n",
    "    query_matrix = data.loc[data.Type == \"MB\", :]\n",
    "    \n",
    "    # Get records with restaurant type != \"Mobile\"\n",
    "    search_matrix = data.loc[data.Type != \"MB\", :]\n",
    "\n",
    "    # Use only continuous features for classification\n",
    "    features = data.columns.values[4:]\n",
    "\n",
    "    # Predict known type using KNN\n",
    "    clf = KNeighborsClassifier(n_neighbors=5)\n",
    "    clf.fit(search_matrix.loc[:, features], search_matrix.loc[:, 'Type'])\n",
    "    query_matrix.loc[:, 'Type'] = clf.predict(query_matrix.loc[:, features])\n",
    "    \n",
    "    # Construct data to original form and order\n",
    "    data = pd.concat((search_matrix.loc[:, \"Open Date\" : \"tempIdx\"],\n",
    "                      query_matrix.loc[:, \"Open Date\" : \"tempIdx\"]), ignore_index = True)\n",
    "    data = data.sort_values([\"tempIdx\"])\n",
    "    del data[\"tempIdx\"]\n",
    "    \n",
    "    return data"
   ]
  },
  {
   "cell_type": "code",
   "execution_count": 503,
   "metadata": {
    "collapsed": true
   },
   "outputs": [],
   "source": [
    "def adjust_cities(data, train, k):\n",
    "    \n",
    "    # As found by box plot of each city's mean over each p-var\n",
    "    relevant_pvars =  [\"P1\", \"P2\", \"P11\", \"P19\", \"P20\", \"P23\", \"P30\"]\n",
    "    train = train.loc[:, relevant_pvars]\n",
    "    \n",
    "    # Optimal k is 20 as found by DB-Index plot    \n",
    "    kmeans = cluster.KMeans(n_clusters=k)\n",
    "    kmeans.fit(train)\n",
    "    \n",
    "    # Get the cluster centers and classify city of each data instance to one of the centers\n",
    "    # centroids = kmeans.cluster_centers_\n",
    "    # data['City Cluster'] = vq.vq(data.loc[:, relevant_pvars], centroids)[0]\n",
    "    data['City Cluster'] = kmeans.predict(data.loc[:, relevant_pvars])\n",
    "\n",
    "    return data      "
   ]
  },
  {
   "cell_type": "code",
   "execution_count": 504,
   "metadata": {
    "collapsed": true
   },
   "outputs": [],
   "source": [
    "def random_forest(train_rf, test_rf):\n",
    "    \n",
    "    rf = RandomForestRegressor()\n",
    "    \n",
    "    rf.fit(train_rf.loc[:, \"P1\" : \"Other\"], train_rf.loc[:, \"Revenue\"])\n",
    "    test_rf[\"Predicted_rf\"] = rf.predict(test_rf.loc[:, \"P1\" : \"Other\"])\n",
    "    \n",
    "    return rf"
   ]
  },
  {
   "cell_type": "code",
   "execution_count": 505,
   "metadata": {
    "collapsed": true
   },
   "outputs": [],
   "source": [
    "def svm_regressor(train_svm, test_svm):\n",
    " \n",
    "    # one vs many regresion classifier\n",
    "    lin_clf = svm.LinearSVR()\n",
    "\n",
    "    lin_clf.fit(train_svm.loc[:, \"P1\" : \"Other\"], train_svm.loc[:, \"Revenue\"])\n",
    "    test_svm[\"Predicted_svm\"] = lin_clf.predict(test_svm.loc[:, \"P1\" : \"Other\"])\n",
    "\n",
    "    return lin_clf"
   ]
  },
  {
   "cell_type": "code",
   "execution_count": 506,
   "metadata": {
    "collapsed": true
   },
   "outputs": [],
   "source": [
    "# Read the dataset\n",
    "train = read_data(\"../data/train.csv\")\n",
    "test = read_data(\"../data/test.csv\")"
   ]
  },
  {
   "cell_type": "code",
   "execution_count": 507,
   "metadata": {
    "collapsed": true
   },
   "outputs": [],
   "source": [
    "# Calculate number of samples in training and test datasets\n",
    "num_train = train.shape[0]\n",
    "num_test = test.shape[0]"
   ]
  },
  {
   "cell_type": "code",
   "execution_count": 508,
   "metadata": {
    "collapsed": false
   },
   "outputs": [],
   "source": [
    "# For feature engineering, combine train and test data\n",
    "data = pd.concat((train.loc[:, \"Open Date\" : \"P37\"], test.loc[:, \"Open Date\" : \"P37\"]), ignore_index=True)"
   ]
  },
  {
   "cell_type": "code",
   "execution_count": 509,
   "metadata": {
    "collapsed": false
   },
   "outputs": [],
   "source": [
    "# Parse date of opening of restaurant to get the number of days it has stayed open, month in which it opened\n",
    "# and year in which it opened. The additional month and year features can potentially help proxy seasonality\n",
    "# differences since restaurant revenues are highly cylical.\n",
    "parse_date(data)"
   ]
  },
  {
   "cell_type": "code",
   "execution_count": 510,
   "metadata": {
    "collapsed": false
   },
   "outputs": [
    {
     "data": {
      "text/plain": [
       "array([[<matplotlib.axes._subplots.AxesSubplot object at 0x7f12ac9854e0>,\n",
       "        <matplotlib.axes._subplots.AxesSubplot object at 0x7f12a85a0c18>]], dtype=object)"
      ]
     },
     "execution_count": 510,
     "metadata": {},
     "output_type": "execute_result"
    },
    {
     "data": {
      "image/png": "[encoded data removed]",
      "text/plain": [
       "<matplotlib.figure.Figure at 0x7f12ac4ea198>"
      ]
     },
     "metadata": {},
     "output_type": "display_data"
    }
   ],
   "source": [
    "# Check distribution of revenue and log(revenue)\n",
    "plt.rcParams['figure.figsize'] = (16.0, 6.0)\n",
    "pvalue_before = shapiro(train[\"Revenue\"])[1]\n",
    "pvalue_after = shapiro(np.log(train[\"Revenue\"]))[1]\n",
    "graph_data = pd.DataFrame(\n",
    "        {\n",
    "            (\"Revenue\\n P-value:\" + str(pvalue_before)) : train[\"Revenue\"],\n",
    "            (\"Log(Revenue)\\n P-value:\" + str(pvalue_after)) : np.log(train[\"Revenue\"])\n",
    "        }\n",
    "    )\n",
    "graph_data.hist()"
   ]
  },
  {
   "cell_type": "code",
   "execution_count": 511,
   "metadata": {
    "collapsed": true
   },
   "outputs": [],
   "source": [
    "# log transform revenue as it is approximately normal. If this distribution for revenue holds in the test set,\n",
    "# log transforming the variable before training models will improve performance vastly.\n",
    "# However, we cannot be completely certain that this distribution will hold in the test set.\n",
    "train[\"Revenue\"] = np.log(train[\"Revenue\"])"
   ]
  },
  {
   "cell_type": "code",
   "execution_count": null,
   "metadata": {
    "collapsed": false
   },
   "outputs": [],
   "source": [
    "# Convert unknown restaurant types in test data to known restaurant types using KNN\n",
    "data = adjust_type(data)"
   ]
  },
  {
   "cell_type": "code",
   "execution_count": null,
   "metadata": {
    "collapsed": false
   },
   "outputs": [],
   "source": [
    "# There is unaccounted problem from City as well.\n",
    "# Plotting mean of P-variables over each city helps us see which P-variables are highly related to City\n",
    "# since we are given that one class of P-variables is geographical attributes.\n",
    "distinct_cities = train.loc[:, \"City\"].unique()\n",
    "\n",
    "# Get the mean of each p-variable for each city\n",
    "means = []\n",
    "for col in train.columns[5:42]:\n",
    "    temp = []\n",
    "    for city in distinct_cities:\n",
    "        temp.append(train.loc[train.City == city, col].mean())     \n",
    "    means.append(temp)\n",
    "    \n",
    "# Construct data frame for plotting\n",
    "for i in range(37):\n",
    "    for j in range(len(distinct_cities)):\n",
    "        city_pvars.loc[i+37*j] = [\"P\"+str(i+1), means[i][j]]\n",
    "        \n",
    "# Plot boxplot\n",
    "plt.rcParams['figure.figsize'] = (18.0, 6.0)\n",
    "sns.boxplot(x=\"city_var\", y=\"means\", data=city_pvars)\n",
    "\n",
    "# From this we observe that P1, P2, P11, P19, P20, P23, and P30 are approximately a good\n",
    "# proxy for geographical location."
   ]
  },
  {
   "cell_type": "code",
   "execution_count": null,
   "metadata": {
    "collapsed": false
   },
   "outputs": [],
   "source": [
    "# Convert unknown cities in test data to clusters based on known cities using KMeans\n",
    "data = adjust_cities(data, train, 20)"
   ]
  },
  {
   "cell_type": "code",
   "execution_count": null,
   "metadata": {
    "collapsed": false
   },
   "outputs": [],
   "source": [
    "# Do one hot encoding for categorical attributes: restaurant Type and City Group\n",
    "one_hot_Type = pd.get_dummies(data.loc[:, \"Type\"])\n",
    "data[\"Type_DT\"] = one_hot_Type[\"DT\"]\n",
    "data[\"Type_FC\"] = one_hot_Type[\"FC\"]\n",
    "data[\"Type_IL\"] = one_hot_Type[\"IL\"]\n",
    "\n",
    "one_hot_Type = pd.get_dummies(data.loc[:, \"City Group\"])\n",
    "data[\"Big Cities\"] = one_hot_Type[\"Big Cities\"]\n",
    "data[\"Other\"] = one_hot_Type[\"Other\"]"
   ]
  },
  {
   "cell_type": "code",
   "execution_count": null,
   "metadata": {
    "collapsed": false
   },
   "outputs": [],
   "source": [
    "# Drop the now unnecessary attributes\n",
    "del data[\"Open Date\"]\n",
    "del data[\"City\"]\n",
    "del data[\"City Group\"]\n",
    "del data[\"Type\"]"
   ]
  },
  {
   "cell_type": "code",
   "execution_count": null,
   "metadata": {
    "collapsed": false
   },
   "outputs": [],
   "source": [
    "# Split into train and test datasets\n",
    "train_processed = data[:num_train]\n",
    "test_processed = data[num_train:]"
   ]
  },
  {
   "cell_type": "code",
   "execution_count": null,
   "metadata": {
    "collapsed": false
   },
   "outputs": [],
   "source": [
    "# Join revenue of train dataset\n",
    "train_processed[\"Revenue\"] = train[\"Revenue\"]"
   ]
  },
  {
   "cell_type": "code",
   "execution_count": null,
   "metadata": {
    "collapsed": false
   },
   "outputs": [],
   "source": [
    "def learning_iterate(train_processed, best_rmse):\n",
    "    \n",
    "    # Partition train into learning part and validation part in 70% : 30% ratio\n",
    "    train_randomised = train_processed.iloc[np.random.permutation(train_processed.shape[0])]\n",
    "    train_learning = train_randomised[:97]\n",
    "    train_validation = train_randomised[97:]\n",
    "    \n",
    "    # Training\n",
    "    rf_model = random_forest(train_learning, train_validation)\n",
    "    svm_model = svm_regressor(train_learning, train_validation)\n",
    "    \n",
    "    # Inverse log transform on revenue and predictions\n",
    "    train_validation[\"Revenue\"] = np.exp(train_validation[\"Revenue\"])\n",
    "    train_validation[\"Predicted_rf\"] = np.exp(train_validation[\"Predicted_rf\"])\n",
    "    train_validation[\"Predicted_svm\"] = np.exp(train_validation[\"Predicted_svm\"])\n",
    "    \n",
    "    # Calculate final prediction by taking average\n",
    "    train_validation['Prediction_final'] = \\\n",
    "    0.5*(train_validation.loc[:, \"Predicted_rf\"] + train_validation.loc[:, \"Predicted_svm\"])\n",
    "    \n",
    "    # Calculate final RMSE\n",
    "    rmse_final = evaluate_rmse(train_validation, \"Prediction_final\")\n",
    "    \n",
    "    # If current RMSE is the least observed so far, perform predtion on test data\n",
    "    if rmse_final < best_rmse:\n",
    "        best_rmse = rmse_final\n",
    "        test_processed[\"Predicted_rf\"] = np.exp(rf_model.predict(test_processed.loc[:, \"P1\" : \"Other\"]))\n",
    "        test_processed[\"Predicted_svm\"] = np.exp(svm_model.predict(test_processed.loc[:, \"P1\" : \"Other\"]))\n",
    "        test_processed[\"Prediction\"] = \\\n",
    "        0.5*(test_processed.loc[:, \"Predicted_rf\"] + test_processed.loc[:, \"Predicted_svm\"])\n",
    "        \n",
    "    return best_rmse"
   ]
  },
  {
   "cell_type": "code",
   "execution_count": null,
   "metadata": {
    "collapsed": false
   },
   "outputs": [],
   "source": [
    "# Choose best model oven 10 iterations\n",
    "best_rmse = 10000000000\n",
    "for i in range(100):\n",
    "    best_rmse = learning_iterate(train_processed, best_rmse)"
   ]
  },
  {
   "cell_type": "code",
   "execution_count": null,
   "metadata": {
    "collapsed": false
   },
   "outputs": [],
   "source": [
    "# Export results to submission.csv\n",
    "# test_processed.reset_index(inplace=True)\n",
    "test_processed.loc[:, \"Prediction\"].to_csv(\"submission.csv\")"
   ]
  }
 ],
 "metadata": {
  "kernelspec": {
   "display_name": "Python [Root]",
   "language": "python",
   "name": "Python [Root]"
  },
  "language_info": {
   "codemirror_mode": {
    "name": "ipython",
    "version": 3
   },
   "file_extension": ".py",
   "mimetype": "text/x-python",
   "name": "python",
   "nbconvert_exporter": "python",
   "pygments_lexer": "ipython3",
   "version": "3.5.2"
  }
 },
 "nbformat": 4,
 "nbformat_minor": 0
}
