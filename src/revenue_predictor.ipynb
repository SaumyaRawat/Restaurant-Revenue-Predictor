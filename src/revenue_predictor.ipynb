{
 "cells": [
  {
   "cell_type": "code",
   "execution_count": 215,
   "metadata": {
    "collapsed": true
   },
   "outputs": [],
   "source": [
    "import numpy as np\n",
    "import matplotlib.pyplot as plt\n",
    "import pandas as pd\n",
    "import seaborn as sns\n",
    "\n",
    "from datetime import datetime\n",
    "from sklearn.neighbors import KNeighborsClassifier\n",
    "from sklearn.ensemble import RandomForestRegressor\n",
    "from sklearn.decomposition import PCA\n",
    "from sklearn.preprocessing import LabelEncoder\n",
    "from sklearn import svm\n",
    "from sklearn.metrics import mean_squared_error\n",
    "from scipy.stats import shapiro\n",
    "\n",
    "% config InlineBackend.figure_format = 'png'\n",
    "% matplotlib inline"
   ]
  },
  {
   "cell_type": "code",
   "execution_count": 186,
   "metadata": {
    "collapsed": true
   },
   "outputs": [],
   "source": [
    "def read_data(filename):\n",
    "    dataset = pd.read_csv(filename)\n",
    "    return dataset"
   ]
  },
  {
   "cell_type": "code",
   "execution_count": 187,
   "metadata": {
    "collapsed": true
   },
   "outputs": [],
   "source": [
    "def evaluate_rmse(dataset):\n",
    "    return np.sqrt(mean_squared_error(dataset['Revenue'], dataset['Predicted']))    "
   ]
  },
  {
   "cell_type": "code",
   "execution_count": 188,
   "metadata": {
    "collapsed": true
   },
   "outputs": [],
   "source": [
    "def parse_date(train):\n",
    "    \n",
    "    # Assume a date which is later than latest opening date of all the restaurants\n",
    "    latest_date = datetime.strptime(\"01/01/2015\", '%m/%d/%Y')\n",
    "    \n",
    "    open_num_days = []\n",
    "    open_month = []\n",
    "    open_year = []\n",
    "\n",
    "    for date in train['Open Date']:\n",
    "        cur_date = datetime.strptime(date, '%m/%d/%Y')\n",
    "        open_num_days.append((latest_date - cur_date).days)\n",
    "        open_month.append(cur_date.month)\n",
    "        open_year.append(cur_date.year)\n",
    "\n",
    "    train['Days'] = open_num_days\n",
    "    train['Month'] = open_month\n",
    "    train['Year'] = open_year"
   ]
  },
  {
   "cell_type": "code",
   "execution_count": 189,
   "metadata": {
    "collapsed": false
   },
   "outputs": [],
   "source": [
    "def adjust_type(data):\n",
    "    \n",
    "    # Augment data with id for original order of records\n",
    "    data.loc[:, \"tempIdx\"] = data.index\n",
    "    \n",
    "    # Get records with restaurant type = \"Mobile\"\n",
    "    query_matrix = data.loc[data.Type == \"MB\", :]\n",
    "    \n",
    "    # Get records with restaurant type != \"Mobile\"\n",
    "    search_matrix = data.loc[data.Type != \"MB\", :]\n",
    "\n",
    "    # Use only continuous features for classification\n",
    "    features = data.columns.values[4:]\n",
    "\n",
    "    # Predict known type using KNN\n",
    "    clf = KNeighborsClassifier(n_neighbors=5)\n",
    "    clf.fit(search_matrix.loc[:, features], search_matrix.loc[:, 'Type'])\n",
    "    query_matrix.loc[:, 'Type'] = clf.predict(query_matrix.loc[:, features])\n",
    "    \n",
    "    # Construct data to original form and order\n",
    "    data = pd.concat((search_matrix.loc[:, \"Open Date\" : \"tempIdx\"],\n",
    "                      query_matrix.loc[:, \"Open Date\" : \"tempIdx\"]), ignore_index = True)\n",
    "    data = data.sort_values([\"tempIdx\"])\n",
    "    data.drop(\"tempIdx\", 1)\n",
    "    \n",
    "    return data"
   ]
  },
  {
   "cell_type": "code",
   "execution_count": 238,
   "metadata": {
    "collapsed": true
   },
   "outputs": [],
   "source": [
    "def adjust_cities(data):\n",
    "    return data  "
   ]
  },
  {
   "cell_type": "code",
   "execution_count": 190,
   "metadata": {
    "collapsed": true
   },
   "outputs": [],
   "source": [
    "# Read the dataset\n",
    "train = read_data(\"../data/train.csv\")\n",
    "test = read_data(\"../data/test.csv\")"
   ]
  },
  {
   "cell_type": "code",
   "execution_count": 191,
   "metadata": {
    "collapsed": true
   },
   "outputs": [],
   "source": [
    "# Calculate number of samples in training and test datasets\n",
    "num_train = train.shape[0]\n",
    "num_test = test.shape[0]"
   ]
  },
  {
   "cell_type": "code",
   "execution_count": 192,
   "metadata": {
    "collapsed": false
   },
   "outputs": [],
   "source": [
    "# For feature engineering, combine train and test data\n",
    "data = pd.concat((train.loc[:, 'Open Date':'P37'], test.loc[:, 'Open Date':'P37']), ignore_index=True)"
   ]
  },
  {
   "cell_type": "code",
   "execution_count": 193,
   "metadata": {
    "collapsed": false
   },
   "outputs": [],
   "source": [
    "# Parse date of opening of restaurant to get the number of days it has stayed open, month in which it opened\n",
    "# and year in which it opened. The additional month and year features can potentially help proxy seasonality\n",
    "# differences since restaurant revenues are highly cylical.\n",
    "parse_date(data)"
   ]
  },
  {
   "cell_type": "code",
   "execution_count": 194,
   "metadata": {
    "collapsed": false
   },
   "outputs": [
    {
     "data": {
      "text/plain": [
       "array([[<matplotlib.axes._subplots.AxesSubplot object at 0x7f12b29c8588>,\n",
       "        <matplotlib.axes._subplots.AxesSubplot object at 0x7f12b25e84e0>]], dtype=object)"
      ]
     },
     "execution_count": 194,
     "metadata": {},
     "output_type": "execute_result"
    },
    {
     "data": {
      "image/png": "[encoded data removed]",
      "text/plain": [
       "<matplotlib.figure.Figure at 0x7f12b29c10b8>"
      ]
     },
     "metadata": {},
     "output_type": "display_data"
    }
   ],
   "source": [
    "# Check distribution of revenue and log(revenue)\n",
    "plt.rcParams['figure.figsize'] = (16.0, 6.0)\n",
    "pvalue_before = shapiro(train[\"Revenue\"])[1]\n",
    "pvalue_after = shapiro(np.log(train[\"Revenue\"]))[1]\n",
    "graph_data = pd.DataFrame(\n",
    "        {\n",
    "            (\"Revenue\\n P-value:\" + str(pvalue_before)) : train[\"Revenue\"],\n",
    "            (\"Log(Revenue)\\n P-value:\" + str(pvalue_after)) : np.log(train[\"Revenue\"])\n",
    "        }\n",
    "    )\n",
    "graph_data.hist()"
   ]
  },
  {
   "cell_type": "code",
   "execution_count": 195,
   "metadata": {
    "collapsed": true
   },
   "outputs": [],
   "source": [
    "# log transform revenue as it is approximately normal. If this distribution for revenue holds in the test set,\n",
    "# log transforming the variable before training models will improve performance vastly.\n",
    "# However, we cannot be completely certain that this distribution will hold in the test set.\n",
    "train[\"Revenue\"] = np.log(train[\"Revenue\"])"
   ]
  },
  {
   "cell_type": "code",
   "execution_count": 196,
   "metadata": {
    "collapsed": false
   },
   "outputs": [
    {
     "name": "stderr",
     "output_type": "stream",
     "text": [
      "/home/rehas/anaconda3/lib/python3.5/site-packages/pandas/core/indexing.py:465: SettingWithCopyWarning: \n",
      "A value is trying to be set on a copy of a slice from a DataFrame.\n",
      "Try using .loc[row_indexer,col_indexer] = value instead\n",
      "\n",
      "See the caveats in the documentation: http://pandas.pydata.org/pandas-docs/stable/indexing.html#indexing-view-versus-copy\n",
      "  self.obj[item] = s\n"
     ]
    }
   ],
   "source": [
    "# Convert unknown restaurant types in test data to known restaurant types using KNN\n",
    "data = adjust_type(data)"
   ]
  },
  {
   "cell_type": "code",
   "execution_count": 235,
   "metadata": {
    "collapsed": false
   },
   "outputs": [
    {
     "data": {
      "text/plain": [
       "<matplotlib.axes._subplots.AxesSubplot at 0x7f12aff71c88>"
      ]
     },
     "execution_count": 235,
     "metadata": {},
     "output_type": "execute_result"
    },
    {
     "data": {
      "image/png": "[encoded data removed]",
      "text/plain": [
       "<matplotlib.figure.Figure at 0x7f12aff711d0>"
      ]
     },
     "metadata": {},
     "output_type": "display_data"
    }
   ],
   "source": [
    "# There is unaccounted problem from City as well.\n",
    "# Plotting mean of P-variables over each city helps us see which P-variables are highly related to City\n",
    "# since we are given that one class of P-variables is geographical attributes.\n",
    "distinct_cities = train.loc[:, \"City\"].unique()\n",
    "\n",
    "# Get the mean of each p-variable for each city\n",
    "means = []\n",
    "for col in train.columns[5:42]:\n",
    "    temp = []\n",
    "    for city in distinct_cities:\n",
    "        temp.append(train.loc[train.City == city, col].mean())     \n",
    "    means.append(temp)\n",
    "    \n",
    "# Construct data frame for plotting\n",
    "for i in range(37):\n",
    "    for j in range(len(distinct_cities)):\n",
    "        city_pvars.loc[i+37*j] = [\"P\"+str(i+1), means[i][j]]\n",
    "        \n",
    "# Plot boxplot\n",
    "plt.rcParams['figure.figsize'] = (18.0, 6.0)\n",
    "sns.boxplot(x=\"city_var\", y=\"means\", data=city_pvars)\n",
    "\n",
    "# From this we observe that P1, P2, P11, P19, P20, P23, and P30 are approximately a good\n",
    "# proxy for geographical location."
   ]
  },
  {
   "cell_type": "code",
   "execution_count": 240,
   "metadata": {
    "collapsed": false
   },
   "outputs": [],
   "source": [
    "# Convert unknown cities in test data to known cities using KMeans\n",
    "data = adjust_cities(data)"
   ]
  },
  {
   "cell_type": "code",
   "execution_count": null,
   "metadata": {
    "collapsed": false
   },
   "outputs": [],
   "source": []
  },
  {
   "cell_type": "code",
   "execution_count": null,
   "metadata": {
    "collapsed": false
   },
   "outputs": [],
   "source": []
  },
  {
   "cell_type": "code",
   "execution_count": null,
   "metadata": {
    "collapsed": false
   },
   "outputs": [],
   "source": []
  },
  {
   "cell_type": "code",
   "execution_count": null,
   "metadata": {
    "collapsed": false
   },
   "outputs": [],
   "source": []
  },
  {
   "cell_type": "code",
   "execution_count": null,
   "metadata": {
    "collapsed": true
   },
   "outputs": [],
   "source": []
  },
  {
   "cell_type": "code",
   "execution_count": null,
   "metadata": {
    "collapsed": false
   },
   "outputs": [],
   "source": []
  },
  {
   "cell_type": "code",
   "execution_count": null,
   "metadata": {
    "collapsed": true
   },
   "outputs": [],
   "source": []
  },
  {
   "cell_type": "code",
   "execution_count": null,
   "metadata": {
    "collapsed": false
   },
   "outputs": [],
   "source": []
  },
  {
   "cell_type": "code",
   "execution_count": null,
   "metadata": {
    "collapsed": false
   },
   "outputs": [],
   "source": []
  },
  {
   "cell_type": "code",
   "execution_count": null,
   "metadata": {
    "collapsed": true
   },
   "outputs": [],
   "source": []
  },
  {
   "cell_type": "code",
   "execution_count": null,
   "metadata": {
    "collapsed": false
   },
   "outputs": [],
   "source": []
  },
  {
   "cell_type": "code",
   "execution_count": null,
   "metadata": {
    "collapsed": true
   },
   "outputs": [],
   "source": []
  },
  {
   "cell_type": "code",
   "execution_count": null,
   "metadata": {
    "collapsed": false
   },
   "outputs": [],
   "source": []
  },
  {
   "cell_type": "code",
   "execution_count": null,
   "metadata": {
    "collapsed": false
   },
   "outputs": [],
   "source": []
  },
  {
   "cell_type": "code",
   "execution_count": null,
   "metadata": {
    "collapsed": false
   },
   "outputs": [],
   "source": []
  },
  {
   "cell_type": "code",
   "execution_count": null,
   "metadata": {
    "collapsed": false
   },
   "outputs": [],
   "source": []
  },
  {
   "cell_type": "code",
   "execution_count": null,
   "metadata": {
    "collapsed": true
   },
   "outputs": [],
   "source": []
  }
 ],
 "metadata": {
  "kernelspec": {
   "display_name": "Python [Root]",
   "language": "python",
   "name": "Python [Root]"
  },
  "language_info": {
   "codemirror_mode": {
    "name": "ipython",
    "version": 3
   },
   "file_extension": ".py",
   "mimetype": "text/x-python",
   "name": "python",
   "nbconvert_exporter": "python",
   "pygments_lexer": "ipython3",
   "version": "3.5.2"
  }
 },
 "nbformat": 4,
 "nbformat_minor": 0
}
